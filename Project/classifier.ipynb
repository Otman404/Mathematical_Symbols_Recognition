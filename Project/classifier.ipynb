{
  "nbformat": 4,
  "nbformat_minor": 0,
  "metadata": {
    "colab": {
      "name": "classifier.ipynb",
      "version": "0.3.2",
      "provenance": [],
      "collapsed_sections": []
    },
    "kernelspec": {
      "name": "python3",
      "display_name": "Python 3"
    }
  },
  "cells": [
    {
      "metadata": {
        "id": "fAo_NUQWmN9G",
        "colab_type": "code",
        "colab": {}
      },
      "cell_type": "code",
      "source": [
        "from keras.preprocessing.image import img_to_array\n",
        "from keras.models import load_model\n",
        "import numpy as np\n",
        "import argparse\n",
        "import imutils\n",
        "import pickle\n",
        "import cv2\n",
        "import os"
      ],
      "execution_count": 0,
      "outputs": []
    },
    {
      "metadata": {
        "id": "M5YMBa_XmGus",
        "colab_type": "code",
        "colab": {}
      },
      "cell_type": "code",
      "source": [
        "# construct the argument parse and parse the arguments\n",
        "ap = argparse.ArgumentParser()\n",
        "ap.add_argument(\"-m\", \"--model\", required=True,\n",
        "\thelp=\"path to trained model model\")\n",
        "ap.add_argument(\"-l\", \"--labelbin\", required=True,\n",
        "\thelp=\"path to label binarizer\")\n",
        "ap.add_argument(\"-i\", \"--image\", required=True,\n",
        "\thelp=\"path to input image\")\n",
        "args = vars(ap.parse_args())\n"
      ],
      "execution_count": 0,
      "outputs": []
    },
    {
      "metadata": {
        "id": "hcQODB12mGuz",
        "colab_type": "code",
        "colab": {}
      },
      "cell_type": "code",
      "source": [
        "# load the image\n",
        "image = cv2.imread(args[\"image\"])\n",
        "output = imutils.resize(image, width=400)\n",
        " \n",
        "# pre-process the image for classification\n",
        "image = cv2.resize(image, (45, 45))\n",
        "image = image.astype(\"float\") / 255.0\n",
        "image = img_to_array(image)\n",
        "image = np.expand_dims(image, axis=0)\n"
      ],
      "execution_count": 0,
      "outputs": []
    },
    {
      "metadata": {
        "id": "92G0-TWemGu3",
        "colab_type": "code",
        "colab": {}
      },
      "cell_type": "code",
      "source": [
        "# load the trained convolutional neural network and the multi-label\n",
        "# binarizer\n",
        "print(\"[INFO] loading network...\")\n",
        "model = load_model(args[\"model\"])\n",
        "mlb = pickle.loads(open(args[\"labelbin\"], \"rb\").read())\n",
        " \n",
        " #%%\n",
        "# classify the input image then find the indexes of the two class\n",
        "# labels with the *largest* probability\n",
        "print(\"[INFO] classifying image...\")\n",
        "proba = model.predict(image)[0]\n",
        "idxs = np.argsort(proba)[::-1][:2]\n",
        "# loop over the indexes of the high confidence class labels\n"
      ],
      "execution_count": 0,
      "outputs": []
    },
    {
      "metadata": {
        "id": "JVtRJSSgmGu6",
        "colab_type": "code",
        "colab": {}
      },
      "cell_type": "code",
      "source": [
        "for (i, j) in enumerate(idxs):\n",
        "\t# build the label and draw the label on the image\n",
        "\tlabel = \"{}: {:.2f}%\".format(mlb.classes_[j], proba[j] * 100)\n",
        "\tcv2.putText(output, label, (10, (i * 30) + 25), \n",
        "\t\tcv2.FONT_HERSHEY_SIMPLEX, 0.7, (0, 255, 0), 2)\n"
      ],
      "execution_count": 0,
      "outputs": []
    },
    {
      "metadata": {
        "id": "8yHKzwZbmGu9",
        "colab_type": "code",
        "colab": {}
      },
      "cell_type": "code",
      "source": [
        "# show the probabilities for each of the individual labels\n",
        "for (label, p) in zip(mlb.classes_, proba):\n",
        "\tprint(\"{}: {:.2f}%\".format(label, p * 100))\n",
        "# show the output image\n",
        "cv2.imshow(\"Output\", output)\n",
        "cv2.waitKey(0)\n",
        "\n",
        "print (\"This Symbol is :\",' '.join(mlb.classes_[proba.argmax(axis=-1)]))\n",
        "#model.predict_classes(image)\n",
        "#result = \"This Symbol is : \".join(mlb.classes_[proba.argmax(axis=-1)])"
      ],
      "execution_count": 0,
      "outputs": []
    }
  ]
}